{
 "cells": [
  {
   "cell_type": "code",
   "execution_count": 4,
   "metadata": {},
   "outputs": [],
   "source": [
    "import pandas as pd\n",
    "\n",
    "# Load the first CSV file with the \"state\" column\n",
    "file1 = 'US Police shootings in from 2015-22 cleaned.csv'\n",
    "df1 = pd.read_csv(file1)\n",
    "\n",
    "# Load the second CSV file with the \"abbreviation\" and \"fullname\" columns\n",
    "file2 = 'states.csv'\n",
    "df2 = pd.read_csv(file2)\n",
    "\n",
    "# Merge the two dataframes based on the \"state\" and \"abbreviation\" columns\n",
    "merged_df = df1.merge(df2[['abbreviation', 'fullname']], left_on='state', right_on='abbreviation', how='left')\n",
    "\n",
    "# Rename the 'fullname' column to 'state_fullname'\n",
    "merged_df = merged_df.rename(columns={'fullname': 'state_fullname'})\n",
    "\n",
    "# Drop the 'abbreviation' column if you don't need it\n",
    "merged_df = merged_df.drop(columns=['abbreviation'])\n",
    "\n",
    "# Save the merged dataframe to a new CSV file\n",
    "output_file = 'output_merged.csv'\n",
    "merged_df.to_csv(output_file, index=False)"
   ]
  },
  {
   "cell_type": "code",
   "execution_count": 2,
   "metadata": {},
   "outputs": [],
   "source": [
    "import pandas as pd\n",
    "\n",
    "# Load the CSV file\n",
    "file_name = 'output_merged.csv'  # Replace with your CSV file name\n",
    "df = pd.read_csv(file_name)\n",
    "\n",
    "# Count the number of entries for each unique value in the \"state_fullname\" column\n",
    "state_counts = df['state_fullname'].value_counts().reset_index()\n",
    "state_counts.columns = ['state_fullname', 'cases']\n",
    "\n",
    "# Save the result to a new CSV file\n",
    "output_file = 'US Police shootings in from 2015-22 cases.csv'  # Replace with your desired output file name\n",
    "state_counts.to_csv(output_file, index=False)"
   ]
  },
  {
   "cell_type": "code",
   "execution_count": 3,
   "metadata": {},
   "outputs": [],
   "source": [
    "import pandas as pd\n",
    "\n",
    "# Load the CSV file\n",
    "file_name = 'US Police shootings in from 2015-22.csv'  # Replace with your CSV file name\n",
    "df = pd.read_csv(file_name)\n",
    "\n",
    "# Remove rows with any null values\n",
    "df = df.dropna(how='any')\n",
    "\n",
    "# Save the updated DataFrame to a new CSV file\n",
    "output_file = 'US Police shootings in from 2015-22 cleaned.csv'  # Replace with your desired output file name\n",
    "df.to_csv(output_file, index=False)"
   ]
  }
 ],
 "metadata": {
  "kernelspec": {
   "display_name": "Python 3",
   "language": "python",
   "name": "python3"
  },
  "language_info": {
   "codemirror_mode": {
    "name": "ipython",
    "version": 3
   },
   "file_extension": ".py",
   "mimetype": "text/x-python",
   "name": "python",
   "nbconvert_exporter": "python",
   "pygments_lexer": "ipython3",
   "version": "3.8.8"
  }
 },
 "nbformat": 4,
 "nbformat_minor": 2
}
